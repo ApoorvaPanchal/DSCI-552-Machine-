{
 "cells": [
  {
   "cell_type": "markdown",
   "metadata": {},
   "source": [
    "<center><h1>Panchal_Apoorva_HW8</h1></center>"
   ]
  },
  {
   "cell_type": "markdown",
   "metadata": {},
   "source": [
    "Name: Apoorva Panchal\n",
    "<br>\n",
    "Github Username: ApoorvaPanchal\n",
    "<br>\n",
    "USC ID: 8685016290   \n",
    "\n",
    "Used 1 late day"
   ]
  },
  {
   "cell_type": "markdown",
   "metadata": {},
   "source": [
    "## 1. Supervised, Semi-Supervised, and Unsupervised Learning"
   ]
  },
  {
   "cell_type": "markdown",
   "metadata": {},
   "source": [
    "Import packages"
   ]
  },
  {
   "cell_type": "code",
   "execution_count": 19,
   "metadata": {},
   "outputs": [],
   "source": [
    "import zipfile\n",
    "import numpy as np\n",
    "import pandas as pd\n",
    "from sklearn.cluster import KMeans, SpectralClustering\n",
    "from urllib.request import urlretrieve\n",
    "from sklearn.preprocessing import StandardScaler, normalize, Normalizer\n",
    "from sklearn.model_selection import GridSearchCV, train_test_split\n",
    "from sklearn.pipeline import Pipeline\n",
    "from sklearn import svm\n",
    "from sklearn.metrics import accuracy_score, roc_auc_score, roc_curve, precision_recall_fscore_support, pairwise_distances\n",
    "from tabulate import tabulate\n",
    "from sklearn.calibration import LabelEncoder\n",
    "from sklearn.preprocessing import MinMaxScaler\n",
    "import matplotlib.pyplot as plt\n",
    "from sklearn.metrics import confusion_matrix\n",
    "from scipy.special import softmax\n",
    "import warnings \n",
    "warnings.filterwarnings('ignore')"
   ]
  },
  {
   "cell_type": "markdown",
   "metadata": {},
   "source": [
    "### (a) Download the Breast Cancer Wisconsin (Diagnostic) Data Set"
   ]
  },
  {
   "cell_type": "code",
   "execution_count": 2,
   "metadata": {},
   "outputs": [],
   "source": [
    "# url = 'https://archive.ics.uci.edu/static/public/17/breast+cancer+wisconsin+diagnostic.zip'\n",
    "# filename = '../data/cancer_diagnosis.zip'\n",
    "# urlretrieve(url, filename)\n",
    "# zip = zipfile.ZipFile('../data/cancer_diagnosis.zip', 'r').extractall('../data/')"
   ]
  },
  {
   "cell_type": "code",
   "execution_count": 3,
   "metadata": {},
   "outputs": [
    {
     "name": "stdout",
     "output_type": "stream",
     "text": [
      "   radius_mean  texture_mean  perimeter_mean  area_mean  smoothness_mean  \\\n",
      "0        17.99         10.38          122.80     1001.0          0.11840   \n",
      "1        20.57         17.77          132.90     1326.0          0.08474   \n",
      "2        19.69         21.25          130.00     1203.0          0.10960   \n",
      "3        11.42         20.38           77.58      386.1          0.14250   \n",
      "4        20.29         14.34          135.10     1297.0          0.10030   \n",
      "\n",
      "   compactness_mean  concavity_mean  concavepoints_mean  symmetry_mean  \\\n",
      "0           0.27760          0.3001             0.14710         0.2419   \n",
      "1           0.07864          0.0869             0.07017         0.1812   \n",
      "2           0.15990          0.1974             0.12790         0.2069   \n",
      "3           0.28390          0.2414             0.10520         0.2597   \n",
      "4           0.13280          0.1980             0.10430         0.1809   \n",
      "\n",
      "   fractaldimesnion_mean  ...  radius_worst  texture_worst  perimeter_worst  \\\n",
      "0                0.07871  ...         25.38          17.33           184.60   \n",
      "1                0.05667  ...         24.99          23.41           158.80   \n",
      "2                0.05999  ...         23.57          25.53           152.50   \n",
      "3                0.09744  ...         14.91          26.50            98.87   \n",
      "4                0.05883  ...         22.54          16.67           152.20   \n",
      "\n",
      "   area_worst  smoothness_worst  compactness_worst  concavity_worst  \\\n",
      "0      2019.0            0.1622             0.6656           0.7119   \n",
      "1      1956.0            0.1238             0.1866           0.2416   \n",
      "2      1709.0            0.1444             0.4245           0.4504   \n",
      "3       567.7            0.2098             0.8663           0.6869   \n",
      "4      1575.0            0.1374             0.2050           0.4000   \n",
      "\n",
      "   concavepoints_worst  symmetry_worst  fractaldimesnion_worst  \n",
      "0               0.2654          0.4601                 0.11890  \n",
      "1               0.1860          0.2750                 0.08902  \n",
      "2               0.2430          0.3613                 0.08758  \n",
      "3               0.2575          0.6638                 0.17300  \n",
      "4               0.1625          0.2364                 0.07678  \n",
      "\n",
      "[5 rows x 30 columns]\n",
      "  diagnosis\n",
      "0         M\n",
      "1         M\n",
      "2         M\n",
      "3         M\n",
      "4         M\n"
     ]
    }
   ],
   "source": [
    "cols = ['id_num', 'diagnosis', 'radius_mean', 'texture_mean', 'perimeter_mean', 'area_mean', 'smoothness_mean', 'compactness_mean', 'concavity_mean', 'concavepoints_mean', 'symmetry_mean', 'fractaldimesnion_mean',\n",
    "        'radius_se', 'texture_se', 'perimeter_se', 'area_se', 'smoothness_se', 'compactness_se', 'concavity_se', 'concavepoints_se', 'symmetry_se', 'fractaldimesnion_se',\n",
    "        'radius_worst', 'texture_worst', 'perimeter_worst', 'area_worst', 'smoothness_worst', 'compactness_worst', 'concavity_worst', 'concavepoints_worst', 'symmetry_worst', 'fractaldimesnion_worst']\n",
    "\n",
    "data = pd.read_csv('../data/wdbc.data',delimiter=',', header=None, names=cols)\n",
    "data.drop(columns=['id_num'], inplace=True)\n",
    "\n",
    "y_labels = ['diagnosis']\n",
    "X_data = data.drop(columns=y_labels)\n",
    "y_data = data[y_labels]\n",
    "\n",
    "print(X_data.head())\n",
    "print(y_data.head())    "
   ]
  },
  {
   "cell_type": "markdown",
   "metadata": {},
   "source": [
    "Diagnosis Labels:   \n",
    "B : 0   \n",
    "M : 1   "
   ]
  },
  {
   "cell_type": "code",
   "execution_count": 4,
   "metadata": {},
   "outputs": [
    {
     "name": "stdout",
     "output_type": "stream",
     "text": [
      "diagnosis\n",
      "B    357\n",
      "M    212\n",
      "Name: count, dtype: int64\n",
      "(array([0, 1]), array([357, 212]))\n"
     ]
    }
   ],
   "source": [
    "print(y_data['diagnosis'].value_counts())\n",
    "label_encoder = LabelEncoder()\n",
    "y_data = label_encoder.fit_transform(np.ravel(y_data))\n",
    "print(np.unique(y_data, return_counts=True))\n",
    "y_data = pd.Series(y_data, name='diagnosis')\n"
   ]
  },
  {
   "cell_type": "markdown",
   "metadata": {},
   "source": [
    "### (b) Monte-Carlo Simulation"
   ]
  },
  {
   "cell_type": "markdown",
   "metadata": {},
   "source": [
    "#### (i) Supervised Learning"
   ]
  },
  {
   "cell_type": "code",
   "execution_count": 5,
   "metadata": {},
   "outputs": [
    {
     "name": "stdout",
     "output_type": "stream",
     "text": [
      "Iteration: 1\n",
      "Confusion Matrix Test \n",
      " [[71  1]\n",
      " [ 2 40]]\n",
      "Confusion Matrix Train \n",
      " [[285   0]\n",
      " [  4 166]]\n"
     ]
    },
    {
     "data": {
      "image/png": "[encoded data removed]",
      "text/plain": [
       "<Figure size 640x480 with 1 Axes>"
      ]
     },
     "metadata": {},
     "output_type": "display_data"
    },
    {
     "data": {
      "image/png": "[encoded data removed]",
      "text/plain": [
       "<Figure size 640x480 with 1 Axes>"
      ]
     },
     "metadata": {},
     "output_type": "display_data"
    },
    {
     "name": "stdout",
     "output_type": "stream",
     "text": [
      "Best parameters: {'estimator__C': 1}\n",
      "Best score: 0.9846153846153847\n",
      "['accuracy', 'precision', 'recall', 'f1', 'auc']\n",
      "[0.9736842105263158, 0.975609756097561, 0.9523809523809523, 0.963855421686747, 0.9692460317460317]\n",
      "[0.9912087912087912, 1.0, 0.9764705882352941, 0.988095238095238, 0.9882352941176471]\n",
      "--------------------------------------\n",
      "Iteration: 2\n",
      "Best parameters: {'estimator__C': 1}\n",
      "Best score: 0.9670329670329669\n",
      "['accuracy', 'precision', 'recall', 'f1', 'auc']\n",
      "[0.9824561403508771, 0.9761904761904762, 0.9761904761904762, 0.9761904761904762, 0.9811507936507938]\n",
      "[0.9846153846153847, 0.9939393939393939, 0.9647058823529412, 0.9791044776119404, 0.9805985552115584]\n",
      "--------------------------------------\n",
      "Iteration: 3\n",
      "Best parameters: {'estimator__C': 1}\n",
      "Best score: 0.9758241758241759\n",
      "['accuracy', 'precision', 'recall', 'f1', 'auc']\n",
      "[0.956140350877193, 0.9512195121951219, 0.9285714285714286, 0.9397590361445782, 0.9503968253968254]\n",
      "[0.9868131868131869, 0.9880952380952381, 0.9764705882352941, 0.9822485207100591, 0.9847265221878225]\n",
      "--------------------------------------\n",
      "Iteration: 4\n",
      "Best parameters: {'estimator__C': 1}\n",
      "Best score: 0.9670329670329669\n",
      "['accuracy', 'precision', 'recall', 'f1', 'auc']\n",
      "[0.9912280701754386, 1.0, 0.9761904761904762, 0.9879518072289156, 0.9880952380952381]\n",
      "[0.9824175824175824, 0.9879518072289156, 0.9647058823529412, 0.9761904761904762, 0.9788441692466461]\n",
      "--------------------------------------\n",
      "Iteration: 5\n",
      "Best parameters: {'estimator__C': 1}\n",
      "Best score: 0.9736263736263737\n",
      "['accuracy', 'precision', 'recall', 'f1', 'auc']\n",
      "[0.9385964912280702, 0.972972972972973, 0.8571428571428571, 0.9113924050632912, 0.9216269841269842]\n",
      "[0.9868131868131869, 0.9880952380952381, 0.9764705882352941, 0.9822485207100591, 0.9847265221878225]\n",
      "--------------------------------------\n",
      "Iteration: 6\n",
      "Best parameters: {'estimator__C': 1}\n",
      "Best score: 0.9692307692307691\n",
      "['accuracy', 'precision', 'recall', 'f1', 'auc']\n",
      "[0.9736842105263158, 1.0, 0.9285714285714286, 0.962962962962963, 0.9642857142857143]\n",
      "[0.9802197802197802, 0.9878787878787879, 0.9588235294117647, 0.973134328358209, 0.9759029927760579]\n",
      "--------------------------------------\n",
      "Iteration: 7\n",
      "Best parameters: {'estimator__C': 10}\n",
      "Best score: 0.9780219780219781\n",
      "['accuracy', 'precision', 'recall', 'f1', 'auc']\n",
      "[0.956140350877193, 0.9302325581395349, 0.9523809523809523, 0.9411764705882352, 0.9553571428571429]\n",
      "[0.9934065934065934, 1.0, 0.9823529411764705, 0.9910979228486646, 0.9911764705882353]\n",
      "--------------------------------------\n",
      "Iteration: 8\n",
      "Best parameters: {'estimator__C': 1}\n",
      "Best score: 0.9714285714285715\n",
      "['accuracy', 'precision', 'recall', 'f1', 'auc']\n",
      "[0.9473684210526315, 0.9736842105263158, 0.8809523809523809, 0.925, 0.933531746031746]\n",
      "[0.9868131868131869, 0.9880952380952381, 0.9764705882352941, 0.9822485207100591, 0.9847265221878225]\n",
      "--------------------------------------\n",
      "Iteration: 9\n",
      "Best parameters: {'estimator__C': 1}\n",
      "Best score: 0.9736263736263735\n",
      "['accuracy', 'precision', 'recall', 'f1', 'auc']\n",
      "[0.9736842105263158, 1.0, 0.9285714285714286, 0.962962962962963, 0.9642857142857143]\n",
      "[0.9802197802197802, 0.9820359281437125, 0.9647058823529412, 0.973293768545994, 0.9770897832817338]\n",
      "--------------------------------------\n",
      "Iteration: 10\n",
      "Best parameters: {'estimator__C': 1}\n",
      "Best score: 0.9692307692307693\n",
      "['accuracy', 'precision', 'recall', 'f1', 'auc']\n",
      "[0.9824561403508771, 1.0, 0.9523809523809523, 0.975609756097561, 0.9761904761904762]\n",
      "[0.9824175824175824, 0.9939024390243902, 0.9588235294117647, 0.9760479041916168, 0.9776573787409701]\n",
      "--------------------------------------\n",
      "Iteration: 11\n",
      "Best parameters: {'estimator__C': 1}\n",
      "Best score: 0.9714285714285713\n",
      "['accuracy', 'precision', 'recall', 'f1', 'auc']\n",
      "[0.9736842105263158, 0.975609756097561, 0.9523809523809523, 0.963855421686747, 0.9692460317460317]\n",
      "[0.9802197802197802, 0.9820359281437125, 0.9647058823529412, 0.973293768545994, 0.9770897832817338]\n",
      "--------------------------------------\n",
      "Iteration: 12\n",
      "Best parameters: {'estimator__C': 1}\n",
      "Best score: 0.9802197802197803\n",
      "['accuracy', 'precision', 'recall', 'f1', 'auc']\n",
      "[0.9736842105263158, 1.0, 0.9285714285714286, 0.962962962962963, 0.9642857142857143]\n",
      "[0.9802197802197802, 0.9763313609467456, 0.9705882352941176, 0.9734513274336284, 0.9782765737874097]\n",
      "--------------------------------------\n",
      "Iteration: 13\n",
      "Best parameters: {'estimator__C': 1}\n",
      "Best score: 0.9714285714285715\n",
      "['accuracy', 'precision', 'recall', 'f1', 'auc']\n",
      "[0.956140350877193, 0.9512195121951219, 0.9285714285714286, 0.9397590361445782, 0.9503968253968254]\n",
      "[0.9824175824175824, 0.9879518072289156, 0.9647058823529412, 0.9761904761904762, 0.9788441692466461]\n",
      "--------------------------------------\n",
      "Iteration: 14\n",
      "Best parameters: {'estimator__C': 1}\n",
      "Best score: 0.9736263736263735\n",
      "['accuracy', 'precision', 'recall', 'f1', 'auc']\n",
      "[0.9649122807017544, 0.975, 0.9285714285714286, 0.951219512195122, 0.9573412698412699]\n",
      "[0.9868131868131869, 1.0, 0.9647058823529412, 0.9820359281437125, 0.9823529411764707]\n",
      "--------------------------------------\n",
      "Iteration: 15\n",
      "Best parameters: {'estimator__C': 1}\n",
      "Best score: 0.9736263736263737\n",
      "['accuracy', 'precision', 'recall', 'f1', 'auc']\n",
      "[0.956140350877193, 0.9512195121951219, 0.9285714285714286, 0.9397590361445782, 0.9503968253968254]\n",
      "[0.9868131868131869, 0.9880952380952381, 0.9764705882352941, 0.9822485207100591, 0.9847265221878225]\n",
      "--------------------------------------\n",
      "Iteration: 16\n",
      "Best parameters: {'estimator__C': 1}\n",
      "Best score: 0.9692307692307693\n",
      "['accuracy', 'precision', 'recall', 'f1', 'auc']\n",
      "[0.9736842105263158, 1.0, 0.9285714285714286, 0.962962962962963, 0.9642857142857143]\n",
      "[0.9802197802197802, 0.9878787878787879, 0.9588235294117647, 0.973134328358209, 0.9759029927760579]\n",
      "--------------------------------------\n",
      "Iteration: 17\n",
      "Best parameters: {'estimator__C': 1}\n",
      "Best score: 0.9736263736263737\n",
      "['accuracy', 'precision', 'recall', 'f1', 'auc']\n",
      "[0.956140350877193, 0.9512195121951219, 0.9285714285714286, 0.9397590361445782, 0.9503968253968254]\n",
      "[0.9846153846153847, 0.9880239520958084, 0.9705882352941176, 0.9792284866468843, 0.9817853457172343]\n",
      "--------------------------------------\n",
      "Iteration: 18\n",
      "Best parameters: {'estimator__C': 10}\n",
      "Best score: 0.9714285714285713\n",
      "['accuracy', 'precision', 'recall', 'f1', 'auc']\n",
      "[0.9649122807017544, 1.0, 0.9047619047619048, 0.9500000000000001, 0.9523809523809523]\n",
      "[0.989010989010989, 0.9881656804733728, 0.9823529411764705, 0.9852507374631269, 0.9876676986584108]\n",
      "--------------------------------------\n",
      "Iteration: 19\n",
      "Best parameters: {'estimator__C': 10}\n",
      "Best score: 0.9670329670329669\n",
      "['accuracy', 'precision', 'recall', 'f1', 'auc']\n",
      "[0.9824561403508771, 0.9545454545454546, 1.0, 0.9767441860465117, 0.986111111111111]\n",
      "[0.9868131868131869, 0.9880952380952381, 0.9764705882352941, 0.9822485207100591, 0.9847265221878225]\n",
      "--------------------------------------\n",
      "Iteration: 20\n",
      "Best parameters: {'estimator__C': 10}\n",
      "Best score: 0.964835164835165\n",
      "['accuracy', 'precision', 'recall', 'f1', 'auc']\n",
      "[0.9736842105263158, 1.0, 0.9285714285714286, 0.962962962962963, 0.9642857142857143]\n",
      "[0.9956043956043956, 0.9941176470588236, 0.9941176470588236, 0.9941176470588236, 0.9953044375644995]\n",
      "--------------------------------------\n",
      "Iteration: 21\n",
      "Best parameters: {'estimator__C': 1}\n",
      "Best score: 0.9758241758241759\n",
      "['accuracy', 'precision', 'recall', 'f1', 'auc']\n",
      "[0.9649122807017544, 0.9523809523809523, 0.9523809523809523, 0.9523809523809523, 0.9623015873015873]\n",
      "[0.9846153846153847, 0.9880239520958084, 0.9705882352941176, 0.9792284866468843, 0.9817853457172343]\n",
      "--------------------------------------\n",
      "Iteration: 22\n",
      "Best parameters: {'estimator__C': 1}\n",
      "Best score: 0.9736263736263735\n",
      "['accuracy', 'precision', 'recall', 'f1', 'auc']\n",
      "[0.9473684210526315, 0.9736842105263158, 0.8809523809523809, 0.925, 0.933531746031746]\n",
      "[0.9802197802197802, 0.9878787878787879, 0.9588235294117647, 0.973134328358209, 0.9759029927760579]\n",
      "--------------------------------------\n",
      "Iteration: 23\n",
      "Best parameters: {'estimator__C': 1}\n",
      "Best score: 0.9692307692307693\n",
      "['accuracy', 'precision', 'recall', 'f1', 'auc']\n",
      "[0.9649122807017544, 0.9523809523809523, 0.9523809523809523, 0.9523809523809523, 0.9623015873015873]\n",
      "[0.9846153846153847, 0.9939393939393939, 0.9647058823529412, 0.9791044776119404, 0.9805985552115584]\n",
      "--------------------------------------\n",
      "Iteration: 24\n",
      "Best parameters: {'estimator__C': 10}\n",
      "Best score: 0.9802197802197803\n",
      "['accuracy', 'precision', 'recall', 'f1', 'auc']\n",
      "[0.9473684210526315, 0.9285714285714286, 0.9285714285714286, 0.9285714285714286, 0.943452380952381]\n",
      "[0.989010989010989, 0.9940119760479041, 0.9764705882352941, 0.9851632047477744, 0.9864809081527348]\n",
      "--------------------------------------\n",
      "Iteration: 25\n",
      "Best parameters: {'estimator__C': 1}\n",
      "Best score: 0.9648351648351647\n",
      "['accuracy', 'precision', 'recall', 'f1', 'auc']\n",
      "[0.9649122807017544, 0.975, 0.9285714285714286, 0.951219512195122, 0.9573412698412699]\n",
      "[0.9846153846153847, 0.9880239520958084, 0.9705882352941176, 0.9792284866468843, 0.9817853457172343]\n",
      "--------------------------------------\n",
      "Iteration: 26\n",
      "Best parameters: {'estimator__C': 1}\n",
      "Best score: 0.9758241758241759\n",
      "['accuracy', 'precision', 'recall', 'f1', 'auc']\n",
      "[0.9736842105263158, 0.9534883720930233, 0.9761904761904762, 0.9647058823529412, 0.9742063492063492]\n",
      "[0.9802197802197802, 0.9820359281437125, 0.9647058823529412, 0.973293768545994, 0.9770897832817338]\n",
      "--------------------------------------\n",
      "Iteration: 27\n",
      "Best parameters: {'estimator__C': 10}\n",
      "Best score: 0.9692307692307693\n",
      "['accuracy', 'precision', 'recall', 'f1', 'auc']\n",
      "[0.9649122807017544, 0.975, 0.9285714285714286, 0.951219512195122, 0.9573412698412699]\n",
      "[0.989010989010989, 0.9940119760479041, 0.9764705882352941, 0.9851632047477744, 0.9864809081527348]\n",
      "--------------------------------------\n",
      "Iteration: 28\n",
      "Best parameters: {'estimator__C': 1}\n",
      "Best score: 0.9846153846153847\n",
      "['accuracy', 'precision', 'recall', 'f1', 'auc']\n",
      "[0.9298245614035088, 0.9473684210526315, 0.8571428571428571, 0.9, 0.9146825396825397]\n",
      "[0.989010989010989, 0.9940119760479041, 0.9764705882352941, 0.9851632047477744, 0.9864809081527348]\n",
      "--------------------------------------\n",
      "Iteration: 29\n",
      "Best parameters: {'estimator__C': 1}\n",
      "Best score: 0.9846153846153847\n",
      "['accuracy', 'precision', 'recall', 'f1', 'auc']\n",
      "[0.9473684210526315, 0.9285714285714286, 0.9285714285714286, 0.9285714285714286, 0.943452380952381]\n",
      "[0.9912087912087912, 0.9940476190476191, 0.9823529411764705, 0.9881656804733727, 0.989422084623323]\n",
      "--------------------------------------\n",
      "Iteration: 30\n",
      "Best parameters: {'estimator__C': 1}\n",
      "Best score: 0.9582417582417584\n",
      "['accuracy', 'precision', 'recall', 'f1', 'auc']\n",
      "[0.9912280701754386, 1.0, 0.9761904761904762, 0.9879518072289156, 0.9880952380952381]\n",
      "[0.9802197802197802, 0.9878787878787879, 0.9588235294117647, 0.973134328358209, 0.9759029927760579]\n",
      "--------------------------------------\n"
     ]
    }
   ],
   "source": [
    "\n",
    "iter = 30\n",
    "metrics_label_super = ['accuracy', 'precision', 'recall', 'f1', 'auc']\n",
    "metrics_train_super = []\n",
    "metrics_test_super = []\n",
    "\n",
    "for i in range(iter):\n",
    "    X_train_supervised, X_test_supervised, y_train_supervised, y_test_supervised = train_test_split(X_data, y_data, test_size=0.2, stratify=y_data, random_state=i)\n",
    "    # X_train_supervised = pd.DataFrame(normalize(X_train_supervised, norm='l1', copy=True), columns = X_data.columns)\n",
    "\n",
    "    print(f'Iteration: {i+1}')\n",
    "    params = {'estimator__C': [10**i for i in range(-5, 5)]}\n",
    "        \n",
    "    svm_super = svm.LinearSVC(penalty='l1', dual=False, loss='squared_hinge', max_iter=1000000)\n",
    "    pipeline_super = Pipeline([\n",
    "        ('scaler', MinMaxScaler()), \n",
    "                               ('estimator', svm_super)])\n",
    "    model_super = GridSearchCV(pipeline_super, params, cv=5, n_jobs=-1)\n",
    "\n",
    "    model_super.fit(X_train_supervised, y_train_supervised)\n",
    "\n",
    "    y_pred_test = model_super.predict(X_test_supervised)\n",
    "    y_pred_train = model_super.predict(X_train_supervised)\n",
    "\n",
    "    y_prob_test = model_super.decision_function(X_test_supervised)\n",
    "    y_prob_train = model_super.decision_function(X_train_supervised)\n",
    "\n",
    "    fpr_test, tpr_test, _ = roc_curve(y_test_supervised, y_prob_test)\n",
    "    fpr_train, tpr_train, _ = roc_curve(y_train_supervised, y_prob_train)\n",
    "\n",
    "    cm_test = confusion_matrix(y_test_supervised, y_pred_test)\n",
    "    cm_train = confusion_matrix(y_train_supervised, y_pred_train)\n",
    "\n",
    "    if(i==0):\n",
    "        print(f'Confusion Matrix Test \\n', cm_test)\n",
    "        print(f'Confusion Matrix Train \\n', cm_train)\n",
    "        ns_probs = [0 for _ in range(len(y_test_supervised))]\n",
    "        ns_fpr, ns_tpr, _ = roc_curve(y_test_supervised, ns_probs)\n",
    "        plt.plot(ns_fpr, ns_tpr, linestyle='--')\n",
    "        plt.plot(fpr_test, tpr_test, label='Test')\n",
    "        plt.title('Supervised Learning Test')\n",
    "        plt.show()\n",
    "\n",
    "        plt.plot(ns_fpr, ns_tpr, linestyle='--')\n",
    "        plt.plot(fpr_train, tpr_train, label='Train')\n",
    "        plt.title('Supervised Learning Train')\n",
    "        plt.show()\n",
    "\n",
    "    # plot_roc(y_test_supervised, y_prob_test, title='Supervised Learning Test', plot_macro=False, plot_micro=False, classes_to_plot=[0], cmap='autumn')\n",
    "    # plot_roc(y_train_supervised, y_prob_train, title='Supervised Learning Train', plot_macro=False, plot_micro=False, classes_to_plot=[0], cmap='autumn')\n",
    "\n",
    "    prec_test, rec_test, f_test, _ = precision_recall_fscore_support(y_test_supervised, y_pred_test,  average='binary')\n",
    "    prec_train, rec_train, f_train, _ = precision_recall_fscore_support(y_train_supervised, y_pred_train, average='binary')\n",
    "\n",
    "    metrics_test_super.append([accuracy_score(y_test_supervised, y_pred_test), prec_test, rec_test,f_test, roc_auc_score(y_test_supervised, y_pred_test)])\n",
    "    metrics_train_super.append([accuracy_score(y_train_supervised, y_pred_train), prec_train, rec_train, f_train, roc_auc_score(y_train_supervised, y_pred_train)])\n",
    "\n",
    "    print(f'Best parameters: {model_super.best_params_}')\n",
    "    print(f'Best score: {model_super.best_score_}')\n",
    "    print(metrics_label_super)\n",
    "    print(metrics_test_super[i])\n",
    "    print(metrics_train_super[i])\n",
    "    print('--------------------------------------')\n",
    "\n"
   ]
  },
  {
   "cell_type": "code",
   "execution_count": 6,
   "metadata": {},
   "outputs": [
    {
     "name": "stdout",
     "output_type": "stream",
     "text": [
      "┌───────┬────────────┬─────────────┬──────────┬──────────┬──────────┐\n",
      "│       │   accuracy │   precision │   recall │       f1 │      auc │\n",
      "├───────┼────────────┼─────────────┼──────────┼──────────┼──────────┤\n",
      "│ Train │   0.985348 │    0.989818 │ 0.970784 │ 0.98019  │ 0.98241  │\n",
      "│ Test  │   0.964912 │    0.970839 │ 0.933333 │ 0.951295 │ 0.958333 │\n",
      "└───────┴────────────┴─────────────┴──────────┴──────────┴──────────┘\n"
     ]
    }
   ],
   "source": [
    "res_train_df = pd.DataFrame(metrics_train_super, columns=metrics_label_super)\n",
    "res_test_df = pd.DataFrame(metrics_test_super, columns=metrics_label_super)\n",
    "\n",
    "tabulate_vals = []\n",
    "tabulate_vals.append(['Train', res_train_df['accuracy'].mean(), res_train_df['precision'].mean(), res_train_df['recall'].mean(), res_train_df['f1'].mean(), res_train_df['auc'].mean()])\n",
    "tabulate_vals.append(['Test', res_test_df['accuracy'].mean(), res_test_df['precision'].mean(), res_test_df['recall'].mean(), res_test_df['f1'].mean(), res_test_df['auc'].mean()])\n",
    "# for i in range(len(metrics_label_spectral)):\n",
    "#     tabulate_vals.append([metrics_label_spectral[i], res_train_df[metrics_label_spectral[i]].mean(), res_test_df[metrics_label_spectral[i]].mean()])\n",
    "\n",
    "print(tabulate(tabulate_vals, headers=metrics_label_super, tablefmt='simple_outline'))"
   ]
  },
  {
   "cell_type": "markdown",
   "metadata": {},
   "source": [
    "#### (ii) Semi-Supervised Learning/ Self-training"
   ]
  },
  {
   "cell_type": "markdown",
   "metadata": {},
   "source": [
    "##### (A)"
   ]
  },
  {
   "cell_type": "code",
   "execution_count": 7,
   "metadata": {},
   "outputs": [
    {
     "name": "stdout",
     "output_type": "stream",
     "text": [
      "Iteration: 1\n",
      "Confusion Matrix Test \n",
      " [[70  2]\n",
      " [ 3 39]]\n",
      "Confusion Matrix Train \n",
      " [[282   3]\n",
      " [ 10 160]]\n"
     ]
    },
    {
     "data": {
      "image/png": "[encoded data removed]",
      "text/plain": [
       "<Figure size 640x480 with 1 Axes>"
      ]
     },
     "metadata": {},
     "output_type": "display_data"
    },
    {
     "data": {
      "image/png": "[encoded data removed]",
      "text/plain": [
       "<Figure size 640x480 with 1 Axes>"
      ]
     },
     "metadata": {},
     "output_type": "display_data"
    },
    {
     "name": "stdout",
     "output_type": "stream",
     "text": [
      "Best parameters: {'estimator__C': 10}\n",
      "Best score: 0.9735265700483092\n",
      "['accuracy', 'precision', 'recall', 'f1', 'auc']\n",
      "[0.956140350877193, 0.9512195121951219, 0.9285714285714286, 0.9397590361445782, 0.9503968253968254]\n",
      "[0.9714285714285714, 0.9815950920245399, 0.9411764705882353, 0.9609609609609611, 0.9653250773993808]\n",
      "--------------------------------------\n",
      "Iteration: 2\n",
      "Best parameters: {'estimator__C': 1}\n",
      "Best score: 0.9735265700483092\n",
      "['accuracy', 'precision', 'recall', 'f1', 'auc']\n",
      "[0.956140350877193, 0.9512195121951219, 0.9285714285714286, 0.9397590361445782, 0.9503968253968254]\n",
      "[0.9824175824175824, 1.0, 0.9529411764705882, 0.9759036144578312, 0.9764705882352941]\n",
      "--------------------------------------\n",
      "Iteration: 3\n",
      "Best parameters: {'estimator__C': 1}\n",
      "Best score: 0.9647342995169084\n",
      "['accuracy', 'precision', 'recall', 'f1', 'auc']\n",
      "[0.956140350877193, 0.9512195121951219, 0.9285714285714286, 0.9397590361445782, 0.9503968253968254]\n",
      "[0.9736263736263736, 0.9876543209876543, 0.9411764705882353, 0.963855421686747, 0.9670794633642931]\n",
      "--------------------------------------\n",
      "Iteration: 4\n",
      "Best parameters: {'estimator__C': 1000}\n",
      "Best score: 0.9690821256038648\n",
      "['accuracy', 'precision', 'recall', 'f1', 'auc']\n",
      "[0.9385964912280702, 0.8888888888888888, 0.9523809523809523, 0.9195402298850575, 0.941468253968254]\n",
      "[0.9626373626373627, 0.9322033898305084, 0.9705882352941176, 0.9510086455331412, 0.9642414860681114]\n",
      "--------------------------------------\n",
      "Iteration: 5\n",
      "Best parameters: {'estimator__C': 1}\n",
      "Best score: 0.9779710144927536\n",
      "['accuracy', 'precision', 'recall', 'f1', 'auc']\n",
      "[0.9385964912280702, 0.9487179487179487, 0.8809523809523809, 0.9135802469135802, 0.9265873015873016]\n",
      "[0.9846153846153847, 0.9822485207100592, 0.9764705882352941, 0.9793510324483775, 0.9829721362229102]\n",
      "--------------------------------------\n",
      "Iteration: 6\n",
      "Best parameters: {'estimator__C': 1}\n",
      "Best score: 0.9601932367149759\n",
      "['accuracy', 'precision', 'recall', 'f1', 'auc']\n",
      "[0.9385964912280702, 0.972972972972973, 0.8571428571428571, 0.9113924050632912, 0.9216269841269842]\n",
      "[0.9758241758241758, 0.9877300613496932, 0.9470588235294117, 0.966966966966967, 0.9700206398348813]\n",
      "--------------------------------------\n",
      "Iteration: 7\n",
      "Best parameters: {'estimator__C': 10}\n",
      "Best score: 0.9868599033816425\n",
      "['accuracy', 'precision', 'recall', 'f1', 'auc']\n",
      "[0.956140350877193, 0.9743589743589743, 0.9047619047619048, 0.9382716049382716, 0.945436507936508]\n",
      "[0.978021978021978, 0.9761904761904762, 0.9647058823529412, 0.9704142011834319, 0.9753353973168215]\n",
      "--------------------------------------\n",
      "Iteration: 8\n",
      "Best parameters: {'estimator__C': 1}\n",
      "Best score: 0.9777777777777779\n",
      "['accuracy', 'precision', 'recall', 'f1', 'auc']\n",
      "[0.9473684210526315, 0.95, 0.9047619047619048, 0.9268292682926829, 0.9384920634920634]\n",
      "[0.9802197802197802, 0.9763313609467456, 0.9705882352941176, 0.9734513274336284, 0.9782765737874097]\n",
      "--------------------------------------\n",
      "Iteration: 9\n",
      "Best parameters: {'estimator__C': 1}\n",
      "Best score: 0.9603864734299516\n",
      "['accuracy', 'precision', 'recall', 'f1', 'auc']\n",
      "[0.9824561403508771, 1.0, 0.9523809523809523, 0.975609756097561, 0.9761904761904762]\n",
      "[0.9846153846153847, 0.9880239520958084, 0.9705882352941176, 0.9792284866468843, 0.9817853457172343]\n",
      "--------------------------------------\n",
      "Iteration: 10\n",
      "Best parameters: {'estimator__C': 1000}\n",
      "Best score: 0.9605797101449276\n",
      "['accuracy', 'precision', 'recall', 'f1', 'auc']\n",
      "[0.8947368421052632, 0.875, 0.8333333333333334, 0.8536585365853658, 0.8819444444444445]\n",
      "[0.9604395604395605, 0.9634146341463414, 0.9294117647058824, 0.9461077844311377, 0.9541795665634675]\n",
      "--------------------------------------\n",
      "Iteration: 11\n",
      "Best parameters: {'estimator__C': 1}\n",
      "Best score: 0.942512077294686\n",
      "['accuracy', 'precision', 'recall', 'f1', 'auc']\n",
      "[0.956140350877193, 0.9743589743589743, 0.9047619047619048, 0.9382716049382716, 0.945436507936508]\n",
      "[0.9802197802197802, 0.9878787878787879, 0.9588235294117647, 0.973134328358209, 0.9759029927760579]\n",
      "--------------------------------------\n",
      "Iteration: 12\n",
      "Best parameters: {'estimator__C': 1}\n",
      "Best score: 0.9733333333333333\n",
      "['accuracy', 'precision', 'recall', 'f1', 'auc']\n",
      "[0.9649122807017544, 1.0, 0.9047619047619048, 0.9500000000000001, 0.9523809523809523]\n",
      "[0.9824175824175824, 0.9939024390243902, 0.9588235294117647, 0.9760479041916168, 0.9776573787409701]\n",
      "--------------------------------------\n",
      "Iteration: 13\n",
      "Best parameters: {'estimator__C': 1}\n",
      "Best score: 0.973719806763285\n",
      "['accuracy', 'precision', 'recall', 'f1', 'auc']\n",
      "[0.9649122807017544, 0.975, 0.9285714285714286, 0.951219512195122, 0.9573412698412699]\n",
      "[0.978021978021978, 0.9878048780487805, 0.9529411764705882, 0.9700598802395209, 0.9729618163054695]\n",
      "--------------------------------------\n",
      "Iteration: 14\n",
      "Best parameters: {'estimator__C': 1}\n",
      "Best score: 0.9604830917874396\n",
      "['accuracy', 'precision', 'recall', 'f1', 'auc']\n",
      "[0.9473684210526315, 0.9736842105263158, 0.8809523809523809, 0.925, 0.933531746031746]\n",
      "[0.978021978021978, 0.9938271604938271, 0.9470588235294117, 0.9698795180722891, 0.9717750257997936]\n",
      "--------------------------------------\n",
      "Iteration: 15\n",
      "Best parameters: {'estimator__C': 10}\n",
      "Best score: 0.9514975845410628\n",
      "['accuracy', 'precision', 'recall', 'f1', 'auc']\n",
      "[0.956140350877193, 0.9743589743589743, 0.9047619047619048, 0.9382716049382716, 0.945436507936508]\n",
      "[0.9846153846153847, 0.9822485207100592, 0.9764705882352941, 0.9793510324483775, 0.9829721362229102]\n",
      "--------------------------------------\n",
      "Iteration: 16\n",
      "Best parameters: {'estimator__C': 1}\n",
      "Best score: 0.9515942028985507\n",
      "['accuracy', 'precision', 'recall', 'f1', 'auc']\n",
      "[0.9912280701754386, 1.0, 0.9761904761904762, 0.9879518072289156, 0.9880952380952381]\n",
      "[0.9736263736263736, 0.9702380952380952, 0.9588235294117647, 0.9644970414201184, 0.970639834881321]\n",
      "--------------------------------------\n",
      "Iteration: 17\n",
      "Best parameters: {'estimator__C': 1}\n",
      "Best score: 0.9689855072463768\n",
      "['accuracy', 'precision', 'recall', 'f1', 'auc']\n",
      "[0.9473684210526315, 0.9090909090909091, 0.9523809523809523, 0.9302325581395349, 0.9484126984126984]\n",
      "[0.9692307692307692, 0.9698795180722891, 0.9470588235294117, 0.9583333333333333, 0.9647574819401444]\n",
      "--------------------------------------\n",
      "Iteration: 18\n",
      "Best parameters: {'estimator__C': 10}\n",
      "Best score: 0.9693719806763286\n",
      "['accuracy', 'precision', 'recall', 'f1', 'auc']\n",
      "[0.9736842105263158, 0.9534883720930233, 0.9761904761904762, 0.9647058823529412, 0.9742063492063492]\n",
      "[0.9758241758241758, 0.9649122807017544, 0.9705882352941176, 0.967741935483871, 0.9747678018575853]\n",
      "--------------------------------------\n",
      "Iteration: 19\n",
      "Best parameters: {'estimator__C': 1}\n",
      "Best score: 0.9735265700483092\n",
      "['accuracy', 'precision', 'recall', 'f1', 'auc']\n",
      "[0.9824561403508771, 0.9545454545454546, 1.0, 0.9767441860465117, 0.986111111111111]\n",
      "[0.9736263736263736, 0.9759036144578314, 0.9529411764705882, 0.9642857142857143, 0.969453044375645]\n",
      "--------------------------------------\n",
      "Iteration: 20\n",
      "Best parameters: {'estimator__C': 1000}\n",
      "Best score: 0.9559420289855073\n",
      "['accuracy', 'precision', 'recall', 'f1', 'auc']\n",
      "[0.9736842105263158, 1.0, 0.9285714285714286, 0.962962962962963, 0.9642857142857143]\n",
      "[0.9736263736263736, 0.9702380952380952, 0.9588235294117647, 0.9644970414201184, 0.970639834881321]\n",
      "--------------------------------------\n",
      "Iteration: 21\n",
      "Best parameters: {'estimator__C': 1}\n",
      "Best score: 0.9646376811594204\n",
      "['accuracy', 'precision', 'recall', 'f1', 'auc']\n",
      "[0.9736842105263158, 0.975609756097561, 0.9523809523809523, 0.963855421686747, 0.9692460317460317]\n",
      "[0.9758241758241758, 0.9760479041916168, 0.9588235294117647, 0.967359050445104, 0.9723942208462333]\n",
      "--------------------------------------\n",
      "Iteration: 22\n",
      "Best parameters: {'estimator__C': 1}\n",
      "Best score: 0.9690821256038648\n",
      "['accuracy', 'precision', 'recall', 'f1', 'auc']\n",
      "[0.9473684210526315, 0.9736842105263158, 0.8809523809523809, 0.925, 0.933531746031746]\n",
      "[0.9758241758241758, 0.9937888198757764, 0.9411764705882353, 0.9667673716012085, 0.9688338493292054]\n",
      "--------------------------------------\n",
      "Iteration: 23\n",
      "Best parameters: {'estimator__C': 10}\n",
      "Best score: 0.9691787439613527\n",
      "['accuracy', 'precision', 'recall', 'f1', 'auc']\n",
      "[0.9736842105263158, 0.9534883720930233, 0.9761904761904762, 0.9647058823529412, 0.9742063492063492]\n",
      "[0.9802197802197802, 0.9820359281437125, 0.9647058823529412, 0.973293768545994, 0.9770897832817338]\n",
      "--------------------------------------\n",
      "Iteration: 24\n",
      "Best parameters: {'estimator__C': 1000}\n",
      "Best score: 0.9648309178743961\n",
      "['accuracy', 'precision', 'recall', 'f1', 'auc']\n",
      "[0.9824561403508771, 1.0, 0.9523809523809523, 0.975609756097561, 0.9761904761904762]\n",
      "[0.9692307692307692, 0.9534883720930233, 0.9647058823529412, 0.9590643274853802, 0.9683178534571724]\n",
      "--------------------------------------\n",
      "Iteration: 25\n",
      "Best parameters: {'estimator__C': 10}\n",
      "Best score: 0.9691787439613527\n",
      "['accuracy', 'precision', 'recall', 'f1', 'auc']\n",
      "[0.956140350877193, 0.9512195121951219, 0.9285714285714286, 0.9397590361445782, 0.9503968253968254]\n",
      "[0.9692307692307692, 0.9588235294117647, 0.9588235294117647, 0.9588235294117647, 0.9671310629514965]\n",
      "--------------------------------------\n",
      "Iteration: 26\n",
      "Best parameters: {'estimator__C': 1}\n",
      "Best score: 0.9470531400966185\n",
      "['accuracy', 'precision', 'recall', 'f1', 'auc']\n",
      "[0.9649122807017544, 0.9523809523809523, 0.9523809523809523, 0.9523809523809523, 0.9623015873015873]\n",
      "[0.9758241758241758, 1.0, 0.9352941176470588, 0.9665653495440729, 0.9676470588235294]\n",
      "--------------------------------------\n",
      "Iteration: 27\n",
      "Best parameters: {'estimator__C': 10}\n",
      "Best score: 0.9735265700483092\n",
      "['accuracy', 'precision', 'recall', 'f1', 'auc']\n",
      "[0.9736842105263158, 0.975609756097561, 0.9523809523809523, 0.963855421686747, 0.9692460317460317]\n",
      "[0.9868131868131869, 0.9939759036144579, 0.9705882352941176, 0.9821428571428572, 0.9835397316821466]\n",
      "--------------------------------------\n",
      "Iteration: 28\n",
      "Best parameters: {'estimator__C': 1}\n",
      "Best score: 0.9866666666666667\n",
      "['accuracy', 'precision', 'recall', 'f1', 'auc']\n",
      "[0.9210526315789473, 0.9024390243902439, 0.8809523809523809, 0.8915662650602411, 0.9126984126984126]\n",
      "[0.9802197802197802, 0.9878787878787879, 0.9588235294117647, 0.973134328358209, 0.9759029927760579]\n",
      "--------------------------------------\n",
      "Iteration: 29\n",
      "Best parameters: {'estimator__C': 10}\n",
      "Best score: 0.9559420289855073\n",
      "['accuracy', 'precision', 'recall', 'f1', 'auc']\n",
      "[0.9649122807017544, 0.975, 0.9285714285714286, 0.951219512195122, 0.9573412698412699]\n",
      "[0.9846153846153847, 0.9939393939393939, 0.9647058823529412, 0.9791044776119404, 0.9805985552115584]\n",
      "--------------------------------------\n",
      "Iteration: 30\n",
      "Best parameters: {'estimator__C': 1}\n",
      "Best score: 0.9689855072463768\n",
      "['accuracy', 'precision', 'recall', 'f1', 'auc']\n",
      "[0.9736842105263158, 0.9534883720930233, 0.9761904761904762, 0.9647058823529412, 0.9742063492063492]\n",
      "[0.9692307692307692, 0.9698795180722891, 0.9470588235294117, 0.9583333333333333, 0.9647574819401444]\n",
      "--------------------------------------\n"
     ]
    }
   ],
   "source": [
    "\n",
    "iter = 30\n",
    "metrics_label_semi = ['accuracy', 'precision', 'recall', 'f1', 'auc']\n",
    "metrics_train_semi = []\n",
    "metrics_test_semi = []\n",
    "\n",
    "for i in range(iter):\n",
    "    X_train_semi, X_test_semi, y_train_semi, y_test_semi = train_test_split(X_data, y_data, test_size=0.2, stratify=y_data, random_state=i)\n",
    "    \n",
    "    # X_train_semi = pd.DataFrame(normalize(X_train_semi, norm='l1', copy=True), columns = X_data.columns)\n",
    "\n",
    "    X_train_label, X_train_unlabel, y_train_label, y_train_unlabel = train_test_split(X_train_semi, y_train_semi, test_size=0.5, stratify=y_train_semi, random_state=i)\n",
    "\n",
    "    print(f'Iteration: {i+1}')\n",
    "    params = {'estimator__C': [10**i for i in range(-4, 4)]}\n",
    "        \n",
    "    svm_super = svm.LinearSVC(penalty='l1', dual=False, loss='squared_hinge', max_iter=10000000)\n",
    "    pipeline_super = Pipeline([\n",
    "        ('scaler', MinMaxScaler()), \n",
    "                               ('estimator', svm_super)])\n",
    "    model_semi = GridSearchCV(pipeline_super, params, cv=5, n_jobs=-1)\n",
    "\n",
    "    model_semi.fit(X_train_label, y_train_label)\n",
    "\n",
    "    estimator = model_semi.best_estimator_\n",
    "    while(len(X_train_unlabel) > 0):\n",
    "        desc_func = estimator.decision_function(X_train_unlabel)\n",
    "        desc_func = np.abs(desc_func)\n",
    "        idx = np.argmax(desc_func)\n",
    "\n",
    "\n",
    "        pred = estimator.predict(pd.DataFrame(X_train_unlabel.iloc[idx].values.reshape(1, -1), columns=X_train_unlabel.columns))\n",
    "\n",
    "        np.concatenate((X_train_label, X_train_unlabel.iloc[idx].values.reshape(1, -1)))\n",
    "        np.concatenate((y_train_label, pred))\n",
    "\n",
    "        X_train_unlabel = X_train_unlabel.drop(X_train_unlabel.index[idx])\n",
    "        y_train_unlabel = y_train_unlabel.drop(y_train_unlabel.index[idx])\n",
    "\n",
    "        estimator.fit(X_train_label, y_train_label)\n",
    "\n",
    "    # print(X_test_semi.head())\n",
    "    y_pred_test = estimator.predict(X_test_semi)\n",
    "    y_pred_train = estimator.predict(X_train_semi)\n",
    "\n",
    "    y_prob_test = estimator.decision_function(X_test_semi)\n",
    "    y_prob_train = estimator.decision_function(X_train_semi)\n",
    "\n",
    "    fpr_test, tpr_test, _ = roc_curve(y_test_semi, y_prob_test)\n",
    "    fpr_train, tpr_train, _ = roc_curve(y_train_semi, y_prob_train)\n",
    "\n",
    "    cm_test = confusion_matrix(y_test_semi, y_pred_test)\n",
    "    cm_train = confusion_matrix(y_train_semi, y_pred_train)\n",
    "\n",
    "    if(i==0):\n",
    "        print(f'Confusion Matrix Test \\n', cm_test)\n",
    "        print(f'Confusion Matrix Train \\n', cm_train)\n",
    "        ns_probs = [0 for _ in range(len(y_test_semi))]\n",
    "        ns_fpr, ns_tpr, _ = roc_curve(y_test_semi, ns_probs)\n",
    "        plt.plot(ns_fpr, ns_tpr, linestyle='--')\n",
    "        plt.plot(fpr_test, tpr_test, label='Test')\n",
    "        plt.title('Semi-Supervised Learning Test')\n",
    "        plt.show()\n",
    "\n",
    "        plt.plot(ns_fpr, ns_tpr, linestyle='--')\n",
    "        plt.plot(fpr_train, tpr_train, label='Train')\n",
    "        plt.title('Semi-Supervised Learning Train')\n",
    "        plt.show()\n",
    "\n",
    "\n",
    "    prec_test, rec_test, f_test, _ = precision_recall_fscore_support(y_test_semi, y_pred_test,  average='binary')\n",
    "    prec_train, rec_train, f_train, _ = precision_recall_fscore_support(y_train_semi, y_pred_train, average='binary')\n",
    "\n",
    "    metrics_test_semi.append([accuracy_score(y_test_semi, y_pred_test), prec_test, rec_test,f_test, roc_auc_score(y_test_semi, y_pred_test)])\n",
    "    metrics_train_semi.append([accuracy_score(y_train_semi, y_pred_train), prec_train, rec_train, f_train, roc_auc_score(y_train_semi, y_pred_train)])\n",
    "\n",
    "    print(f'Best parameters: {model_semi.best_params_}')\n",
    "    print(f'Best score: {model_semi.best_score_}')\n",
    "    print(metrics_label_semi)\n",
    "    print(metrics_test_semi[i])\n",
    "    print(metrics_train_semi[i])\n",
    "    print('--------------------------------------')\n"
   ]
  },
  {
   "cell_type": "code",
   "execution_count": 8,
   "metadata": {},
   "outputs": [
    {
     "name": "stdout",
     "output_type": "stream",
     "text": [
      "┌───────┬────────────┬─────────────┬──────────┬──────────┬──────────┐\n",
      "│       │   accuracy │   precision │   recall │       f1 │      auc │\n",
      "├───────┼────────────┼─────────────┼──────────┼──────────┼──────────┤\n",
      "│ Train │   0.976337 │    0.979403 │ 0.957059 │ 0.967989 │ 0.972448 │\n",
      "│ Test  │   0.95848  │    0.959701 │ 0.926984 │ 0.942539 │ 0.951918 │\n",
      "└───────┴────────────┴─────────────┴──────────┴──────────┴──────────┘\n"
     ]
    }
   ],
   "source": [
    "res_train_df = pd.DataFrame(metrics_train_semi, columns=metrics_label_semi)\n",
    "res_test_df = pd.DataFrame(metrics_test_semi, columns=metrics_label_semi)\n",
    "\n",
    "tabulate_vals = []\n",
    "tabulate_vals.append(['Train', res_train_df['accuracy'].mean(), res_train_df['precision'].mean(), res_train_df['recall'].mean(), res_train_df['f1'].mean(), res_train_df['auc'].mean()])\n",
    "tabulate_vals.append(['Test', res_test_df['accuracy'].mean(), res_test_df['precision'].mean(), res_test_df['recall'].mean(), res_test_df['f1'].mean(), res_test_df['auc'].mean()])\n",
    "# for i in range(len(metrics_label_spectral)):\n",
    "#     tabulate_vals.append([metrics_label_spectral[i], res_train_df[metrics_label_spectral[i]].mean(), res_test_df[metrics_label_spectral[i]].mean()])\n",
    "\n",
    "print(tabulate(tabulate_vals, headers=metrics_label_semi, tablefmt='simple_outline'))"
   ]
  },
  {
   "cell_type": "markdown",
   "metadata": {},
   "source": [
    "##### (B)"
   ]
  },
  {
   "cell_type": "markdown",
   "metadata": {},
   "source": [
    "B part done with A"
   ]
  },
  {
   "cell_type": "markdown",
   "metadata": {},
   "source": [
    "#### (iii) Unsupervised Learning"
   ]
  },
  {
   "cell_type": "markdown",
   "metadata": {},
   "source": [
    "##### (A)"
   ]
  },
  {
   "cell_type": "markdown",
   "metadata": {},
   "source": [
    "How do you make sure that the algorithm was not trapped in a local minimum?  \n",
    "* To avoid getting stuck in local minima, a common strategy is to run the algorithm several times and choose the best result. This is because it's hard to tell if the minimum we've found is a local or a global minimum. The K-means algorithm uses this approach with its 'n_init' parameter. By default, it starts with 10 different cluster points. Additionally, repeatedly using 'random_state' and randomly splitting the data into training and testing sets helps ensure that the algorithm doesn't settle on a local minimum."
   ]
  },
  {
   "cell_type": "code",
   "execution_count": 9,
   "metadata": {},
   "outputs": [
    {
     "name": "stdout",
     "output_type": "stream",
     "text": [
      "Iteration: 1\n",
      "Confusion Matrix Train \n",
      " [[277   8]\n",
      " [ 33 137]]\n",
      "\n",
      "\n",
      "Confusion Matrix Test \n",
      " [[65  7]\n",
      " [ 7 35]]\n",
      "\n",
      "\n"
     ]
    },
    {
     "data": {
      "image/png": "[encoded data removed]",
      "text/plain": [
       "<Figure size 640x480 with 1 Axes>"
      ]
     },
     "metadata": {},
     "output_type": "display_data"
    },
    {
     "data": {
      "image/png": "[encoded data removed]",
      "text/plain": [
       "<Figure size 640x480 with 1 Axes>"
      ]
     },
     "metadata": {},
     "output_type": "display_data"
    },
    {
     "name": "stdout",
     "output_type": "stream",
     "text": [
      "Iteration: 2\n",
      "Iteration: 3\n",
      "Iteration: 4\n",
      "Iteration: 5\n",
      "Iteration: 6\n",
      "Iteration: 7\n",
      "Iteration: 8\n",
      "Iteration: 9\n",
      "Iteration: 10\n",
      "Iteration: 11\n",
      "Iteration: 12\n",
      "Iteration: 13\n",
      "Iteration: 14\n",
      "Iteration: 15\n",
      "Iteration: 16\n",
      "Iteration: 17\n",
      "Iteration: 18\n",
      "Iteration: 19\n",
      "Iteration: 20\n",
      "Iteration: 21\n",
      "Iteration: 22\n",
      "Iteration: 23\n",
      "Iteration: 24\n",
      "Iteration: 25\n",
      "Iteration: 26\n",
      "Iteration: 27\n",
      "Iteration: 28\n",
      "Iteration: 29\n",
      "Iteration: 30\n"
     ]
    }
   ],
   "source": [
    "iter = 30\n",
    "\n",
    "metrics_label_unsupervised = ['accuracy', 'precision', 'recall', 'f1', 'auc']\n",
    "metrics_train_unsupervised = []\n",
    "metrics_test_unsupervised = []\n",
    "\n",
    "for it in range(iter):\n",
    "    print(f'Iteration: {it+1}')\n",
    "    X_train_unsupervised, X_test_unsupervised, y_train_unsupervised, y_test_unsupervised = train_test_split(X_data, y_data, test_size=0.2, stratify=y_data, random_state=it)\n",
    "\n",
    "    scaler = StandardScaler()\n",
    "\n",
    "    X_train_unsupervised = pd.DataFrame(scaler.fit_transform(X_train_unsupervised), columns = X_data.columns)\n",
    "    X_test_unsupervised = pd.DataFrame(scaler.transform(X_test_unsupervised), columns = X_data.columns)\n",
    "\n",
    "    kmeans = KMeans(n_clusters=2, random_state=it, n_init=20)\n",
    "\n",
    "    kmeans.fit(X_train_unsupervised)\n",
    "    cluster_centers = kmeans.cluster_centers_\n",
    "\n",
    "    reversed = False\n",
    "\n",
    "    for i, cluster in enumerate(cluster_centers):\n",
    "        closest_point_indices = np.argsort(pairwise_distances(cluster.reshape(1, -1), X_train_unsupervised))[0][:30]\n",
    "        closest_points = y_train_unsupervised.iloc[closest_point_indices]\n",
    "        unique, counts = np.unique(closest_points, return_counts=True)\n",
    "        if(i != unique[np.argmax(counts)]):\n",
    "            reversed = True\n",
    "    \n",
    "    y_pred_train = kmeans.predict(X_train_unsupervised)\n",
    "    y_pred_test = kmeans.predict(X_test_unsupervised)\n",
    "\n",
    "    y_train_dist = kmeans.transform(X_train_unsupervised)\n",
    "    y_test_dist = kmeans.transform(X_test_unsupervised)\n",
    "\n",
    "    y_prob_train = softmax(y_train_dist, axis=1)[:,0]\n",
    "    y_prob_test = softmax(y_test_dist, axis=1)[:,0]\n",
    "\n",
    "    if(reversed):\n",
    "        y_pred_train = y_pred_train ^ 1\n",
    "        y_pred_test = y_pred_test ^ 1\n",
    "        y_prob_train = 1 - y_prob_train\n",
    "        y_prob_test = 1 - y_prob_test\n",
    "\n",
    "    fpr_test, tpr_test, _ = roc_curve(y_test_unsupervised, y_prob_test)\n",
    "    fpr_train, tpr_train, _ = roc_curve(y_train_unsupervised, y_prob_train)\n",
    "\n",
    "    cm_test = confusion_matrix(y_test_unsupervised, y_pred_test)\n",
    "    cm_train = confusion_matrix(y_train_unsupervised, y_pred_train)\n",
    "\n",
    "    if(it==0):\n",
    "\n",
    "        print(f'Confusion Matrix Train \\n', cm_train)\n",
    "        print('\\n')\n",
    "        print(f'Confusion Matrix Test \\n', cm_test)\n",
    "        print('\\n')\n",
    "        ns_probs = [0 for _ in range(len(y_test_unsupervised))]\n",
    "        ns_fpr, ns_tpr, _ = roc_curve(y_test_unsupervised, ns_probs)\n",
    "\n",
    "        plt.plot(ns_fpr, ns_tpr, linestyle='--')\n",
    "        plt.plot(fpr_train, tpr_train, label='Train')\n",
    "        plt.title('Semi-Supervised Learning Train')\n",
    "        plt.show()\n",
    "\n",
    "        plt.plot(ns_fpr, ns_tpr, linestyle='--')\n",
    "        plt.plot(fpr_test, tpr_test, label='Test')\n",
    "        plt.title('Semi-Supervised Learning Test')\n",
    "        plt.show()\n",
    "\n",
    "        \n",
    "\n",
    "\n",
    "    prec_test, rec_test, f_test, _ = precision_recall_fscore_support(y_test_unsupervised, y_pred_test,  average='binary')\n",
    "    prec_train, rec_train, f_train, _ = precision_recall_fscore_support(y_train_unsupervised, y_pred_train, average='binary')\n",
    "\n",
    "    metrics_test_unsupervised.append([accuracy_score(y_test_unsupervised, y_pred_test), prec_test, rec_test,f_test, roc_auc_score(y_test_unsupervised, y_pred_test)])\n",
    "    metrics_train_unsupervised.append([accuracy_score(y_train_unsupervised, y_pred_train), prec_train, rec_train, f_train, roc_auc_score(y_train_unsupervised, y_pred_train)])"
   ]
  },
  {
   "cell_type": "code",
   "execution_count": 10,
   "metadata": {},
   "outputs": [
    {
     "name": "stdout",
     "output_type": "stream",
     "text": [
      "┌───────┬────────────┬─────────────┬──────────┬──────────┬──────────┐\n",
      "│       │   accuracy │   precision │   recall │       f1 │      auc │\n",
      "├───────┼────────────┼─────────────┼──────────┼──────────┼──────────┤\n",
      "│ Train │   0.910256 │    0.923864 │ 0.828431 │ 0.873358 │ 0.893748 │\n",
      "│ Test  │   0.905556 │    0.909718 │ 0.826984 │ 0.865157 │ 0.889187 │\n",
      "└───────┴────────────┴─────────────┴──────────┴──────────┴──────────┘\n"
     ]
    }
   ],
   "source": [
    "res_train_df = pd.DataFrame(metrics_train_unsupervised, columns=metrics_label_unsupervised)\n",
    "res_test_df = pd.DataFrame(metrics_test_unsupervised, columns=metrics_label_unsupervised)\n",
    "\n",
    "tabulate_vals = []\n",
    "tabulate_vals.append(['Train', res_train_df['accuracy'].mean(), res_train_df['precision'].mean(), res_train_df['recall'].mean(), res_train_df['f1'].mean(), res_train_df['auc'].mean()])\n",
    "tabulate_vals.append(['Test', res_test_df['accuracy'].mean(), res_test_df['precision'].mean(), res_test_df['recall'].mean(), res_test_df['f1'].mean(), res_test_df['auc'].mean()])\n",
    "# for i in range(len(metrics_label_spectral)):\n",
    "#     tabulate_vals.append([metrics_label_spectral[i], res_train_df[metrics_label_spectral[i]].mean(), res_test_df[metrics_label_spectral[i]].mean()])\n",
    "\n",
    "print(tabulate(tabulate_vals, headers=metrics_label_unsupervised, tablefmt='simple_outline'))"
   ]
  },
  {
   "cell_type": "markdown",
   "metadata": {},
   "source": [
    "##### (B)"
   ]
  },
  {
   "cell_type": "markdown",
   "metadata": {},
   "source": [
    "Combined with A"
   ]
  },
  {
   "cell_type": "markdown",
   "metadata": {},
   "source": [
    "#### (iv) Spectral Clustering"
   ]
  },
  {
   "cell_type": "code",
   "execution_count": 11,
   "metadata": {},
   "outputs": [
    {
     "name": "stdout",
     "output_type": "stream",
     "text": [
      "Iteration: 1\n",
      "\n",
      "Confusion Matrix Train \n",
      " [[280   5]\n",
      " [ 52 118]]\n",
      "\n",
      "\n",
      "Confusion Matrix Test \n",
      " [[70  2]\n",
      " [10 32]]\n",
      "\n",
      "\n"
     ]
    },
    {
     "data": {
      "image/png": "[encoded data removed]",
      "text/plain": [
       "<Figure size 640x480 with 1 Axes>"
      ]
     },
     "metadata": {},
     "output_type": "display_data"
    },
    {
     "data": {
      "image/png": "[encoded data removed]",
      "text/plain": [
       "<Figure size 640x480 with 1 Axes>"
      ]
     },
     "metadata": {},
     "output_type": "display_data"
    },
    {
     "name": "stdout",
     "output_type": "stream",
     "text": [
      "Iteration: 2\n",
      "\n",
      "Iteration: 3\n",
      "\n",
      "Iteration: 4\n",
      "\n",
      "Iteration: 5\n",
      "\n",
      "Iteration: 6\n",
      "\n",
      "Iteration: 7\n",
      "\n",
      "Iteration: 8\n",
      "\n",
      "Iteration: 9\n",
      "\n",
      "Iteration: 10\n",
      "\n",
      "Iteration: 11\n",
      "\n",
      "Iteration: 12\n",
      "\n",
      "Iteration: 13\n",
      "\n",
      "Iteration: 14\n",
      "\n",
      "Iteration: 15\n",
      "\n",
      "Iteration: 16\n",
      "\n",
      "Iteration: 17\n",
      "\n",
      "Iteration: 18\n",
      "\n",
      "Iteration: 19\n",
      "\n",
      "Iteration: 20\n",
      "\n",
      "Iteration: 21\n",
      "\n",
      "Iteration: 22\n",
      "\n",
      "Iteration: 23\n",
      "\n",
      "Iteration: 24\n",
      "\n",
      "Iteration: 25\n",
      "\n",
      "Iteration: 26\n",
      "\n",
      "Iteration: 27\n",
      "\n",
      "Iteration: 28\n",
      "\n",
      "Iteration: 29\n",
      "\n",
      "Iteration: 30\n",
      "\n"
     ]
    }
   ],
   "source": [
    "iter = 30\n",
    "\n",
    "metrics_label_spectral = ['accuracy', 'precision', 'recall', 'f1', 'auc']\n",
    "metrics_train_spectral = []\n",
    "metrics_test_spectral = []\n",
    "\n",
    "\n",
    "for it in range(iter):\n",
    "    print(f'Iteration: {it+1}\\n')\n",
    "    X_train_spectral, X_test_spectral, y_train_spectral, y_test_spectral = train_test_split(X_data, y_data, test_size=0.2, random_state=it, stratify=y_data)\n",
    "    # X_train_spectral = pd.DataFrame(normalize(X_train_spectral, norm='l1', copy=True), columns = X_data.columns)\n",
    "\n",
    "    scaler = Normalizer()\n",
    "    X_train_spectral = pd.DataFrame(scaler.fit_transform(X_train_spectral), columns = X_data.columns)\n",
    "    X_test_spectral = pd.DataFrame(scaler.transform(X_test_spectral), columns = X_data.columns)\n",
    "    spectral = SpectralClustering(n_clusters=2, affinity='rbf', random_state=it, gamma=1.0, eigen_tol=1e-2, eigen_solver='arpack')\n",
    "\n",
    "    y_pred_train = spectral.fit_predict(X_train_spectral)\n",
    "    y_pred_test = spectral.fit_predict(X_test_spectral)\n",
    "\n",
    "    cluster_labels = np.unique(y_pred_train)\n",
    "    y_pred_train_modified = y_pred_train.copy()\n",
    "    y_pred_test_modified = y_pred_test.copy()\n",
    "\n",
    "\n",
    "    for label in cluster_labels:\n",
    "        cluster_indices = np.where(y_pred_train == label)[0]\n",
    "        cluster = y_train_spectral.iloc[cluster_indices]\n",
    "\n",
    "        majority_label = np.argmax(np.bincount(cluster))\n",
    "        y_pred_train_modified[cluster_indices] = majority_label\n",
    "\n",
    "\n",
    "        cluster_indices = np.where(y_pred_test == label)[0]\n",
    "        cluster = y_test_spectral.iloc[cluster_indices]\n",
    "\n",
    "        majority_label = np.argmax(np.bincount(cluster))\n",
    "        y_pred_test_modified[cluster_indices] = majority_label\n",
    "\n",
    "\n",
    "    y_pred_train = y_pred_train_modified\n",
    "    y_pred_test = y_pred_test_modified\n",
    "    \n",
    "    fpr_test, tpr_test, _ = roc_curve(y_test_spectral, y_pred_test)\n",
    "    fpr_train, tpr_train, _ = roc_curve(y_train_spectral, y_pred_train)\n",
    "\n",
    "    cm_test = confusion_matrix(y_test_spectral, y_pred_test)\n",
    "    cm_train = confusion_matrix(y_train_spectral, y_pred_train)\n",
    "\n",
    "    if(it==0):\n",
    "\n",
    "        print(f'Confusion Matrix Train \\n', cm_train)\n",
    "        print('\\n')\n",
    "        print(f'Confusion Matrix Test \\n', cm_test)\n",
    "        print('\\n')\n",
    "        ns_probs = [0 for _ in range(len(y_test_spectral))]\n",
    "        ns_fpr, ns_tpr, _ = roc_curve(y_test_spectral, ns_probs)\n",
    "\n",
    "        plt.plot(ns_fpr, ns_tpr, linestyle='--')\n",
    "        plt.plot(fpr_train, tpr_train, label='Train')\n",
    "        plt.title('Spectral Learning Train')\n",
    "        plt.show()\n",
    "\n",
    "        plt.plot(ns_fpr, ns_tpr, linestyle='--')\n",
    "        plt.plot(fpr_test, tpr_test, label='Test')\n",
    "        plt.title('Spectral Learning Test')\n",
    "        plt.show()\n",
    "\n",
    "        \n",
    "\n",
    "\n",
    "    prec_test, rec_test, f_test, _ = precision_recall_fscore_support(y_test_spectral, y_pred_test,  average='binary')\n",
    "    prec_train, rec_train, f_train, _ = precision_recall_fscore_support(y_train_spectral, y_pred_train, average='binary')\n",
    "\n",
    "    metrics_test_spectral.append([accuracy_score(y_test_spectral, y_pred_test), prec_test, rec_test,f_test, roc_auc_score(y_test_spectral, y_pred_test)])\n",
    "    metrics_train_spectral.append([accuracy_score(y_train_spectral, y_pred_train), prec_train, rec_train, f_train, roc_auc_score(y_train_spectral, y_pred_train)])   \n",
    "\n",
    "    \n",
    "\n",
    "    "
   ]
  },
  {
   "cell_type": "code",
   "execution_count": 12,
   "metadata": {},
   "outputs": [
    {
     "name": "stdout",
     "output_type": "stream",
     "text": [
      "┌───────┬────────────┬─────────────┬──────────┬──────────┬──────────┐\n",
      "│       │   accuracy │   precision │   recall │       f1 │      auc │\n",
      "├───────┼────────────┼─────────────┼──────────┼──────────┼──────────┤\n",
      "│ Train │   0.883297 │    0.960396 │ 0.717255 │ 0.82106  │ 0.849797 │\n",
      "│ Test  │   0.87924  │    0.947435 │ 0.715873 │ 0.810786 │ 0.845205 │\n",
      "└───────┴────────────┴─────────────┴──────────┴──────────┴──────────┘\n"
     ]
    }
   ],
   "source": [
    "# metrics_label_spectral = ['accuracy', 'precision', 'recall', 'f1', 'auc']\n",
    "res_train_df = pd.DataFrame(metrics_train_spectral, columns=metrics_label_spectral)\n",
    "res_test_df = pd.DataFrame(metrics_test_spectral, columns=metrics_label_spectral)\n",
    "\n",
    "tabulate_vals = []\n",
    "tabulate_vals.append(['Train', res_train_df['accuracy'].mean(), res_train_df['precision'].mean(), res_train_df['recall'].mean(), res_train_df['f1'].mean(), res_train_df['auc'].mean()])\n",
    "tabulate_vals.append(['Test', res_test_df['accuracy'].mean(), res_test_df['precision'].mean(), res_test_df['recall'].mean(), res_test_df['f1'].mean(), res_test_df['auc'].mean()])\n",
    "# for i in range(len(metrics_label_spectral)):\n",
    "#     tabulate_vals.append([metrics_label_spectral[i], res_train_df[metrics_label_spectral[i]].mean(), res_test_df[metrics_label_spectral[i]].mean()])\n",
    "\n",
    "print(tabulate(tabulate_vals, headers=metrics_label_spectral, tablefmt='simple_outline'))"
   ]
  },
  {
   "cell_type": "markdown",
   "metadata": {},
   "source": [
    "#### (iv) Compare"
   ]
  },
  {
   "cell_type": "code",
   "execution_count": 13,
   "metadata": {},
   "outputs": [
    {
     "name": "stdout",
     "output_type": "stream",
     "text": [
      "┌───────────────────────┬────────────┬─────────────┬──────────┬──────────┬──────────┐\n",
      "│                       │   accuracy │   precision │   recall │       f1 │      auc │\n",
      "├───────────────────────┼────────────┼─────────────┼──────────┼──────────┼──────────┤\n",
      "│ Supervised Train      │   0.985348 │    0.989818 │ 0.970784 │ 0.98019  │ 0.98241  │\n",
      "│ Supervised Test       │   0.964912 │    0.970839 │ 0.933333 │ 0.951295 │ 0.958333 │\n",
      "│ Semi-Supervised Train │   0.976337 │    0.979403 │ 0.957059 │ 0.967989 │ 0.972448 │\n",
      "│ Semi-Supervised Test  │   0.95848  │    0.959701 │ 0.926984 │ 0.942539 │ 0.951918 │\n",
      "│ Unsupervised Train    │   0.910256 │    0.923864 │ 0.828431 │ 0.873358 │ 0.893748 │\n",
      "│ Unsupervised Test     │   0.905556 │    0.909718 │ 0.826984 │ 0.865157 │ 0.889187 │\n",
      "│ Spectral Train        │   0.883297 │    0.960396 │ 0.717255 │ 0.82106  │ 0.849797 │\n",
      "│ Spectral Test         │   0.87924  │    0.947435 │ 0.715873 │ 0.810786 │ 0.845205 │\n",
      "└───────────────────────┴────────────┴─────────────┴──────────┴──────────┴──────────┘\n"
     ]
    }
   ],
   "source": [
    "super_train_df = pd.DataFrame(metrics_train_super, columns=metrics_label_super)\n",
    "super_test_df = pd.DataFrame(metrics_test_super, columns=metrics_label_super)\n",
    "\n",
    "semi_train_df = pd.DataFrame(metrics_train_semi, columns=metrics_label_semi)\n",
    "semi_test_df = pd.DataFrame(metrics_test_semi, columns=metrics_label_semi)\n",
    "\n",
    "unsuper_train_df = pd.DataFrame(metrics_train_unsupervised, columns=metrics_label_unsupervised)\n",
    "unsuper_test_df = pd.DataFrame(metrics_test_unsupervised, columns=metrics_label_unsupervised)\n",
    "\n",
    "sepctral_train_df = pd.DataFrame(metrics_train_spectral, columns=metrics_label_spectral)\n",
    "sepctral_test_df = pd.DataFrame(metrics_test_spectral, columns=metrics_label_spectral)\n",
    "\n",
    "tabulate_vals = []\n",
    "tabulate_vals.append(['Supervised Train',super_train_df['accuracy'].mean(), super_train_df['precision'].mean(), super_train_df['recall'].mean(), super_train_df['f1'].mean(), super_train_df['auc'].mean()])\n",
    "tabulate_vals.append(['Supervised Test', super_test_df['accuracy'].mean(), super_test_df['precision'].mean(), super_test_df['recall'].mean(), super_test_df['f1'].mean(), super_test_df['auc'].mean()])\n",
    "\n",
    "tabulate_vals.append(['Semi-Supervised Train',semi_train_df['accuracy'].mean(), semi_train_df['precision'].mean(), semi_train_df['recall'].mean(), semi_train_df['f1'].mean(), semi_train_df['auc'].mean()])\n",
    "tabulate_vals.append(['Semi-Supervised Test', semi_test_df['accuracy'].mean(), semi_test_df['precision'].mean(), semi_test_df['recall'].mean(), semi_test_df['f1'].mean(), semi_test_df['auc'].mean()])\n",
    "\n",
    "tabulate_vals.append(['Unsupervised Train',unsuper_train_df['accuracy'].mean(), unsuper_train_df['precision'].mean(), unsuper_train_df['recall'].mean(), unsuper_train_df['f1'].mean(), unsuper_train_df['auc'].mean()])\n",
    "tabulate_vals.append(['Unsupervised Test', unsuper_test_df['accuracy'].mean(), unsuper_test_df['precision'].mean(), unsuper_test_df['recall'].mean(), unsuper_test_df['f1'].mean(), unsuper_test_df['auc'].mean()])\n",
    "\n",
    "tabulate_vals.append(['Spectral Train',sepctral_train_df['accuracy'].mean(), sepctral_train_df['precision'].mean(), sepctral_train_df['recall'].mean(), sepctral_train_df['f1'].mean(), sepctral_train_df['auc'].mean()])\n",
    "tabulate_vals.append(['Spectral Test', sepctral_test_df['accuracy'].mean(), sepctral_test_df['precision'].mean(), sepctral_test_df['recall'].mean(), sepctral_test_df['f1'].mean(), sepctral_test_df['auc'].mean()])\n",
    "\n",
    "# for i in range(len(metrics_label_spectral)):\n",
    "#     tabulate_vals.append([metrics_label_spectral[i], res_train_df[metrics_label_spectral[i]].mean(), res_test_df[metrics_label_spectral[i]].mean()])\n",
    "\n",
    "print(tabulate(tabulate_vals, headers=metrics_label_spectral, tablefmt='simple_outline'))"
   ]
  },
  {
   "cell_type": "markdown",
   "metadata": {},
   "source": [
    "We might think that supervised learning usually outperforms semi-supervised learning, but in our tests, the semi-supervised models were only slightly less effective than the supervised ones. Interestingly, the semi-supervised approach even had higher precision than the supervised models. On the other hand, we typically expect unsupervised learning to be less effective than the other models, but here it's a different story. The unsupervised model's Test AUC score was actually better than both the supervised and semi-supervised models, suggesting it's more adept at handling the randomness in our data. As for Spectral Clustering, it turned out to be the least effective, which implies that our data is quite straightforward to separate in the existing dimensions and doesn't require more complex, radial dimensions for explanation."
   ]
  },
  {
   "cell_type": "markdown",
   "metadata": {},
   "source": [
    "## 2. Active Learning Using Support Vector Machines"
   ]
  },
  {
   "cell_type": "markdown",
   "metadata": {},
   "source": [
    "### (a) Download the banknote authentication Data Set"
   ]
  },
  {
   "cell_type": "code",
   "execution_count": 14,
   "metadata": {},
   "outputs": [],
   "source": [
    "# url = 'https://archive.ics.uci.edu/static/public/267/banknote+authentication.zip'\n",
    "# filename = '../data/banknote+authentication.zip'\n",
    "# urlretrieve(url, filename)\n",
    "# zip = zipfile.ZipFile('../data/banknote+authentication.zip', 'r').extractall('../data/')"
   ]
  },
  {
   "cell_type": "code",
   "execution_count": 15,
   "metadata": {},
   "outputs": [
    {
     "name": "stdout",
     "output_type": "stream",
     "text": [
      "   variance  skewness  curtosis  entropy  class\n",
      "0   3.62160    8.6661   -2.8073 -0.44699      0\n",
      "1   4.54590    8.1674   -2.4586 -1.46210      0\n",
      "2   3.86600   -2.6383    1.9242  0.10645      0\n",
      "3   3.45660    9.5228   -4.0112 -3.59440      0\n",
      "4   0.32924   -4.4552    4.5718 -0.98880      0\n",
      "      variance  skewness  curtosis  entropy  class\n",
      "1061   -2.3147    3.6668  -0.69690 -1.24740      1\n",
      "646     1.1620   10.2926  -1.28210 -4.03920      0\n",
      "422     4.8368   10.0132  -4.32390 -4.32760      0\n",
      "294     2.5068    1.1588   3.92490  0.12585      0\n",
      "261     3.1557    2.8908   0.59693  0.79825      0\n"
     ]
    }
   ],
   "source": [
    "cols = ['variance', 'skewness', 'curtosis', 'entropy', 'class']\n",
    "bank_data = pd.read_csv('../data/data_banknote_authentication.txt',delimiter=',', header=None, names=cols)\n",
    "print(bank_data.head())\n",
    "bank_train, bank_test = train_test_split(bank_data, train_size=900, random_state=0)\n",
    "print(bank_train.head())"
   ]
  },
  {
   "cell_type": "markdown",
   "metadata": {},
   "source": [
    "### (b) Repeat each of the following two procedures 50 times"
   ]
  },
  {
   "cell_type": "markdown",
   "metadata": {},
   "source": [
    "#### (i) Passive"
   ]
  },
  {
   "cell_type": "code",
   "execution_count": 16,
   "metadata": {},
   "outputs": [
    {
     "name": "stdout",
     "output_type": "stream",
     "text": [
      "(900, 5)\n",
      "Iteration: 1\n",
      "Iteration: 2\n",
      "Iteration: 3\n",
      "Iteration: 4\n",
      "Iteration: 5\n",
      "Iteration: 6\n",
      "Iteration: 7\n",
      "Iteration: 8\n",
      "Iteration: 9\n",
      "Iteration: 10\n",
      "Iteration: 11\n",
      "Iteration: 12\n",
      "Iteration: 13\n",
      "Iteration: 14\n",
      "Iteration: 15\n",
      "Iteration: 16\n",
      "Iteration: 17\n",
      "Iteration: 18\n",
      "Iteration: 19\n",
      "Iteration: 20\n",
      "Iteration: 21\n",
      "Iteration: 22\n",
      "Iteration: 23\n",
      "Iteration: 24\n",
      "Iteration: 25\n",
      "Iteration: 26\n",
      "Iteration: 27\n",
      "Iteration: 28\n",
      "Iteration: 29\n",
      "Iteration: 30\n",
      "Iteration: 31\n",
      "Iteration: 32\n",
      "Iteration: 33\n",
      "Iteration: 34\n",
      "Iteration: 35\n",
      "Iteration: 36\n",
      "Iteration: 37\n",
      "Iteration: 38\n",
      "Iteration: 39\n",
      "Iteration: 40\n",
      "Iteration: 41\n",
      "Iteration: 42\n",
      "Iteration: 43\n",
      "Iteration: 44\n",
      "Iteration: 45\n",
      "Iteration: 46\n",
      "Iteration: 47\n",
      "Iteration: 48\n",
      "Iteration: 49\n",
      "Iteration: 50\n"
     ]
    }
   ],
   "source": [
    "passive_test_errors = []\n",
    "print(bank_train.shape)\n",
    "for it in range(50):\n",
    "\n",
    "    passive_bank_train = bank_train.copy()\n",
    "    print(f'Iteration: {it+1}')\n",
    "    pool_data = pd.DataFrame(columns=passive_bank_train.columns)\n",
    "    pool_data['class'] = pd.to_numeric(pool_data['class'])\n",
    "    test_errors = []\n",
    "\n",
    "    for i in range(90):\n",
    "\n",
    "        if(passive_bank_train.shape[0] == 0):\n",
    "            print('All data used')\n",
    "            break\n",
    "        \n",
    "        selected_data = passive_bank_train.sample(n=10, random_state=i)\n",
    "        pool_data = pd.concat([pool_data, selected_data])\n",
    "        passive_bank_train = passive_bank_train.drop(selected_data.index)\n",
    "\n",
    "        X_train = pool_data.drop(columns=['class'])\n",
    "        y_train = pool_data['class']\n",
    "        X_test = bank_test.drop(columns=['class'])\n",
    "        y_test = bank_test['class']\n",
    "\n",
    "        if(pool_data['class'].nunique() == 1):\n",
    "            test_error = 0\n",
    "\n",
    "            if(pool_data['class'].unique()[0] == 0):\n",
    "                test_error = 1 - accuracy_score(y_test, np.zeros(len(y_test)))\n",
    "            else:\n",
    "                test_error = 1 - accuracy_score(y_test, np.ones(len(y_test)))\n",
    "\n",
    "            test_errors.append(test_error)\n",
    "            continue\n",
    "\n",
    "        param_grid = {'estimator__C': [10**i for i in range(-5, 5)]}\n",
    "\n",
    "        pipeline = Pipeline([\n",
    "            ('scaler', StandardScaler()), \n",
    "            ('estimator', svm.LinearSVC(penalty='l1', dual=False, max_iter=1000000, random_state=it))])\n",
    "        \n",
    "        model = GridSearchCV(pipeline, param_grid, cv=5, n_jobs=-1)\n",
    "        model.fit(X_train, y_train)\n",
    "\n",
    "        y_pred = model.predict(X_test)\n",
    "        test_error = 1 - accuracy_score(y_test, y_pred)\n",
    "        test_errors.append(test_error)\n",
    "    \n",
    "    passive_test_errors.append(test_errors)\n",
    "        "
   ]
  },
  {
   "cell_type": "markdown",
   "metadata": {},
   "source": [
    "#### (ii) Active"
   ]
  },
  {
   "cell_type": "code",
   "execution_count": 17,
   "metadata": {},
   "outputs": [
    {
     "name": "stdout",
     "output_type": "stream",
     "text": [
      "Iteration: 1\n",
      "Iteration: 2\n",
      "Iteration: 3\n"
     ]
    },
    {
     "name": "stderr",
     "output_type": "stream",
     "text": [
      "/Library/Frameworks/Python.framework/Versions/3.11/lib/python3.11/site-packages/sklearn/svm/_base.py:1250: ConvergenceWarning: Liblinear failed to converge, increase the number of iterations.\n",
      "  warnings.warn(\n"
     ]
    },
    {
     "name": "stdout",
     "output_type": "stream",
     "text": [
      "Iteration: 4\n",
      "Iteration: 5\n",
      "Iteration: 6\n",
      "Iteration: 7\n",
      "Iteration: 8\n",
      "Iteration: 9\n",
      "Iteration: 10\n",
      "Iteration: 11\n",
      "Iteration: 12\n",
      "Iteration: 13\n",
      "Iteration: 14\n",
      "Iteration: 15\n"
     ]
    },
    {
     "name": "stderr",
     "output_type": "stream",
     "text": [
      "/Library/Frameworks/Python.framework/Versions/3.11/lib/python3.11/site-packages/sklearn/svm/_base.py:1250: ConvergenceWarning: Liblinear failed to converge, increase the number of iterations.\n",
      "  warnings.warn(\n"
     ]
    },
    {
     "name": "stdout",
     "output_type": "stream",
     "text": [
      "Iteration: 16\n",
      "Iteration: 17\n",
      "Iteration: 18\n",
      "Iteration: 19\n",
      "Iteration: 20\n"
     ]
    },
    {
     "name": "stderr",
     "output_type": "stream",
     "text": [
      "/Library/Frameworks/Python.framework/Versions/3.11/lib/python3.11/site-packages/sklearn/svm/_base.py:1250: ConvergenceWarning: Liblinear failed to converge, increase the number of iterations.\n",
      "  warnings.warn(\n"
     ]
    },
    {
     "name": "stdout",
     "output_type": "stream",
     "text": [
      "Iteration: 21\n",
      "Iteration: 22\n"
     ]
    },
    {
     "name": "stderr",
     "output_type": "stream",
     "text": [
      "/Library/Frameworks/Python.framework/Versions/3.11/lib/python3.11/site-packages/sklearn/svm/_base.py:1250: ConvergenceWarning: Liblinear failed to converge, increase the number of iterations.\n",
      "  warnings.warn(\n"
     ]
    },
    {
     "name": "stdout",
     "output_type": "stream",
     "text": [
      "Iteration: 23\n",
      "Iteration: 24\n",
      "Iteration: 25\n"
     ]
    },
    {
     "name": "stderr",
     "output_type": "stream",
     "text": [
      "/Library/Frameworks/Python.framework/Versions/3.11/lib/python3.11/site-packages/sklearn/svm/_base.py:1250: ConvergenceWarning: Liblinear failed to converge, increase the number of iterations.\n",
      "  warnings.warn(\n"
     ]
    },
    {
     "name": "stdout",
     "output_type": "stream",
     "text": [
      "Iteration: 26\n",
      "Iteration: 27\n",
      "Iteration: 28\n",
      "Iteration: 29\n",
      "Iteration: 30\n",
      "Iteration: 31\n",
      "Iteration: 32\n",
      "Iteration: 33\n",
      "Iteration: 34\n",
      "Iteration: 35\n",
      "Iteration: 36\n"
     ]
    },
    {
     "name": "stderr",
     "output_type": "stream",
     "text": [
      "/Library/Frameworks/Python.framework/Versions/3.11/lib/python3.11/site-packages/sklearn/svm/_base.py:1250: ConvergenceWarning: Liblinear failed to converge, increase the number of iterations.\n",
      "  warnings.warn(\n"
     ]
    },
    {
     "name": "stdout",
     "output_type": "stream",
     "text": [
      "Iteration: 37\n",
      "Iteration: 38\n",
      "Iteration: 39\n",
      "Iteration: 40\n"
     ]
    },
    {
     "name": "stderr",
     "output_type": "stream",
     "text": [
      "/Library/Frameworks/Python.framework/Versions/3.11/lib/python3.11/site-packages/sklearn/svm/_base.py:1250: ConvergenceWarning: Liblinear failed to converge, increase the number of iterations.\n",
      "  warnings.warn(\n"
     ]
    },
    {
     "name": "stdout",
     "output_type": "stream",
     "text": [
      "Iteration: 41\n",
      "Iteration: 42\n",
      "Iteration: 43\n",
      "Iteration: 44\n",
      "Iteration: 45\n",
      "Iteration: 46\n",
      "Iteration: 47\n",
      "Iteration: 48\n",
      "Iteration: 49\n",
      "Iteration: 50\n"
     ]
    }
   ],
   "source": [
    "active_test_errors = []\n",
    "\n",
    "\n",
    "for it in range(50):\n",
    "    print(f'Iteration: {it+1}')\n",
    "    active_bank_train = bank_train.copy()\n",
    "    pool_data = pd.DataFrame(columns=bank_train.columns)\n",
    "    pool_data['class'] = pd.to_numeric(pool_data['class'])\n",
    "    test_errors = []\n",
    "\n",
    "    desc_func = None\n",
    "\n",
    "    for i in range(90):\n",
    "        selected_data = None\n",
    "\n",
    "        if(i==0):\n",
    "            selected_data = active_bank_train.sample(n=10, random_state=i)\n",
    "        else:\n",
    "            closest_poins = np.abs(desc_func)\n",
    "            point_distances = pd.DataFrame(closest_poins, columns=['distance'])\n",
    "            point_distances['index'] = point_distances.index\n",
    "            point_distances = point_distances.sort_values(by=['distance'], ascending=False)\n",
    "            selected_data = active_bank_train.iloc[point_distances['index'][:10]]\n",
    "\n",
    "        \n",
    "        pool_data = pd.concat([pool_data, selected_data])\n",
    "        active_bank_train = active_bank_train.drop(selected_data.index)\n",
    "\n",
    "        X_train = pool_data.drop(columns=['class'])\n",
    "        y_train = pool_data['class']\n",
    "        X_test = bank_test.drop(columns=['class'])\n",
    "        y_test = bank_test['class']\n",
    "\n",
    "        if(pool_data['class'].nunique() == 1):\n",
    "            test_error = 0\n",
    "\n",
    "            if(pool_data['class'].unique()[0] == 0):\n",
    "                test_error = 1 - accuracy_score(y_test, np.zeros(len(y_test)))\n",
    "            else:\n",
    "                test_error = 1 - accuracy_score(y_test, np.ones(len(y_test)))\n",
    "\n",
    "            test_errors.append(test_error)\n",
    "            continue\n",
    "\n",
    "        param_grid = {'estimator__C': [10**i for i in range(-5, 5)]}\n",
    "\n",
    "        pipeline = Pipeline([\n",
    "            ('scaler', StandardScaler()), \n",
    "            ('estimator', svm.LinearSVC(penalty='l1', dual=False, max_iter=1000000))])\n",
    "        \n",
    "        model = GridSearchCV(pipeline, param_grid, cv=5, n_jobs=-1)\n",
    "        model.fit(X_train, y_train)\n",
    "\n",
    "        y_pred = model.predict(X_test)\n",
    "        test_error = 1 - accuracy_score(y_test, y_pred)\n",
    "        test_errors.append(test_error)\n",
    "\n",
    "        if(i<89):\n",
    "            desc_func = model.decision_function(active_bank_train.drop(columns=['class']))\n",
    "    \n",
    "    active_test_errors.append(test_errors)\n",
    "        "
   ]
  },
  {
   "cell_type": "markdown",
   "metadata": {},
   "source": [
    "### (c) Average the 50 test errors"
   ]
  },
  {
   "cell_type": "code",
   "execution_count": 18,
   "metadata": {},
   "outputs": [
    {
     "data": {
      "image/png": "[encoded data removed]",
      "text/plain": [
       "<Figure size 640x480 with 1 Axes>"
      ]
     },
     "metadata": {},
     "output_type": "display_data"
    }
   ],
   "source": [
    "average_passive_test_errors = np.mean(passive_test_errors, axis=0)\n",
    "average_active_test_errors = np.mean(active_test_errors, axis=0)\n",
    "\n",
    "plt.plot(range(10,901,10), average_passive_test_errors, label='Passive')\n",
    "plt.plot(range(10,901,10), average_active_test_errors, label='Active')\n",
    "plt.xlabel('Number of Training Points')\n",
    "plt.ylabel('Average Test Error')\n",
    "plt.title('Active vs Passive Learning')\n",
    "plt.legend()\n",
    "plt.show()\n"
   ]
  },
  {
   "cell_type": "markdown",
   "metadata": {},
   "source": [
    "* We can observe from the above graph that Active learning attains the stable value earlier than Passive learning   \n",
    "* Passive learning generally has a lower test error rate than Active learning throughout the graph  \n",
    "* The active learning curve has more spikes which shows us that the data is actively selected and used for training"
   ]
  }
 ],
 "metadata": {
  "kernelspec": {
   "display_name": "Python 3",
   "language": "python",
   "name": "python3"
  },
  "language_info": {
   "codemirror_mode": {
    "name": "ipython",
    "version": 3
   },
   "file_extension": ".py",
   "mimetype": "text/x-python",
   "name": "python",
   "nbconvert_exporter": "python",
   "pygments_lexer": "ipython3",
   "version": "3.11.0"
  },
  "orig_nbformat": 4,
  "vscode": {
   "interpreter": {
    "hash": "3c20c2d94d2527936fe0f3a300eb11db30fed84423423838e2f93b74eb7aaebc"
   }
  }
 },
 "nbformat": 4,
 "nbformat_minor": 2
}
